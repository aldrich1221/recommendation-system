{
  "nbformat": 4,
  "nbformat_minor": 0,
  "metadata": {
    "colab": {
      "name": "GraphSAGE.ipynb",
      "provenance": [],
      "authorship_tag": "ABX9TyPzw5LC6iWrVHUh+P5ISGt5",
      "include_colab_link": true
    },
    "kernelspec": {
      "name": "python3",
      "display_name": "Python 3"
    }
  },
  "cells": [
    {
      "cell_type": "markdown",
      "metadata": {
        "id": "view-in-github",
        "colab_type": "text"
      },
      "source": [
        "<a href=\"https://colab.research.google.com/github/aldrich1221/recommendation-system/blob/main/GNN/GraphSAGE.ipynb\" target=\"_parent\"><img src=\"https://colab.research.google.com/assets/colab-badge.svg\" alt=\"Open In Colab\"/></a>"
      ]
    },
    {
      "cell_type": "code",
      "metadata": {
        "id": "9PExBXP2k0Fb"
      },
      "source": [
        "import numpy as np\n",
        "import torch\n",
        "import torch.nn as nn\n",
        "import torch.nn.functional as F\n",
        "import torch.nn.init as init\n",
        "\n",
        "def sampling(sourceNodes,samplingNum,nodeTable):\n",
        "  results=[]\n",
        "  for sid in sourceNodes:\n",
        "    sampleNeighbor=np.random.choice(nodeTable[sid],size=(samplingNum,))\n",
        "    results.append(sampleNeighbor)\n",
        "  return np.asarray(results).flatten()\n",
        "\n",
        "def multiSampling(sourceNodes,samplingNum,nodeTable):\n",
        "  multiSamplingResult=[sourceNodes]\n",
        "  for i,samplenum in enumerate(samplingNum):\n",
        "    hopKResult=sampling(multiSamplingResult[i],samplenum,nodeTable)\n",
        "    multiSamplingResult.append(hopKResult)\n",
        "  return multiSamplingResult\n",
        "\n"
      ],
      "execution_count": null,
      "outputs": []
    },
    {
      "cell_type": "code",
      "metadata": {
        "id": "ZBt9dqIHuj1b"
      },
      "source": [
        "class Aggregator(nn.Module):\n",
        "  def __init__(self,inputDim,outputDim,aggMethod='mean'):\n",
        "    super(Aggregator,self).__init__()\n",
        "    self.inputDim=inputDim\n",
        "    self.outputDim=outputDim\n",
        "    self.useBias=useBias\n",
        "    self.aggMethod=aggMethod\n",
        "    self.weight=nn.Parameter(torch.Tensor(inputDim,outputDim))\n",
        "   \n",
        "    self.bias=nn.Parameter(torch.Tensor(outputDim))\n",
        "    self.reset()\n",
        "\n",
        "  def reset(self):\n",
        "    init.kaiming_uniform_(self.weight)\n",
        "    if self.useBias:\n",
        "      init.zeros_(self.bias)\n",
        "  def forward(self,neighborFeature):\n",
        "    if self.aggMethod=='mean':\n",
        "      aggNeighbor=neighborFeature.mean(dim=1)\n",
        "    elif self.aggMethod=='max':\n",
        "      aggNeighbor=neighborFeature.max(dim=1)\n",
        "    else:\n",
        "      raise ValueError(\"please  ues mean aggregation\")\n",
        "    neighborHidden=torch.matmul(aggNeighbor,self.weight)+self.bias\n",
        "   \n",
        "    return neighborHidden\n",
        "\n",
        "\n"
      ],
      "execution_count": null,
      "outputs": []
    },
    {
      "cell_type": "code",
      "metadata": {
        "id": "v7REnew1zzYU"
      },
      "source": [
        "class SageGraphCovNet(nn.Module):\n",
        "  def __init__(self,inputDim,hiddenDim,aggNeighborMethod=\"mean\",aggHiddenMethod=\"sum\"):\n",
        "    super(SageGraphCovNet,self).__init__()\n",
        "    self.aggNeighborMethod=aggNeighborMethod\n",
        "    self.aggHiddenMethod=aggHiddenMethod\n",
        "    self.activation=F.relu\n",
        "    self.aggregator=Aggregator(inputDim,hiddenDim,aggMethod=aggNeighborMethod)\n",
        "    self.weight=nn.Parameter(torch.Tensor(inputDim,hiddenDim))\n",
        "  \n",
        "  def reset(self):\n",
        "    init.kaiming_uniform_(self.weight)\n",
        "  def forward(self,sourceNodeFeatures,neighborNodeFeature):\n",
        "    neighborHidden=self.aggregator(neighborNodeFeature)\n",
        "    currentNodeHidden=torch.matmul(sourceNodeFeatures,self.weight)\n",
        "    if self.aggHiddenMethod==\"sum\":\n",
        "      hidden=currentNodeHidden+neighborHidden\n",
        "    elif self.aggHiddenMethod==\"concat\":\n",
        "      hidden=torch.cat([currentNodeHidden,neighborHidden])\n",
        "    else:\n",
        "      raise ValueError(\"Please use sum/concat aggregation\")\n",
        "    return self.activation(hidden)"
      ],
      "execution_count": null,
      "outputs": []
    },
    {
      "cell_type": "code",
      "metadata": {
        "id": "s0356JarAp2q"
      },
      "source": [
        "class GraphSage(nn.Module):\n",
        "  def __init__(self,inputDim,hiddenDim=[64,64],numNeighbors=[10,10]):\n",
        "    super(GraphSage,self).__init__()\n",
        "    self.inputDim=inputDim\n",
        "    self.numNeighbors=numNeighbors\n",
        "    self.numLayers=len(numNeighbors)\n",
        "    self.gcn=[]\n",
        "    self.gcn.append(SageGraphCovNet(inputDim,hiddenDim[0]))\n",
        "    self.gcn.append(SageGraphCovNet(hiddenDim[0],hiddenDim[1]))\n",
        "  def forward(self,nodeFeatures):\n",
        "    hidden=nodeFeatures\n",
        "    for layer in range(self.numLayers):\n",
        "      nextHidden=[]\n",
        "      gcn=self.gcn[layer]\n",
        "      for hop in range(self.numLayers-1):\n",
        "        sourceNodeFeatures=hidden[hop]\n",
        "        sourceNodeNum=len(sourceNodeFeatures):\n",
        "        neighborNodeFeatures=hidden[hop+1].view(sourceNodeNum,self.numNeighbors[hop],-1)\n",
        "        h=gcn(sourceNodeFeatures,neighborNodeFeatures)\n",
        "        nextHidden.append(h)\n",
        "     hidden=nextHidden\n",
        "     return hidden[0]\n",
        "\n",
        "\n"
      ],
      "execution_count": null,
      "outputs": []
    }
  ]
}