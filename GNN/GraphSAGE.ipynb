{
  "nbformat": 4,
  "nbformat_minor": 0,
  "metadata": {
    "colab": {
      "name": "GraphSAGE.ipynb",
      "provenance": [],
      "authorship_tag": "ABX9TyO5Un4a1TQ+pRpamp8x8PfL",
      "include_colab_link": true
    },
    "kernelspec": {
      "name": "python3",
      "display_name": "Python 3"
    }
  },
  "cells": [
    {
      "cell_type": "markdown",
      "metadata": {
        "id": "view-in-github",
        "colab_type": "text"
      },
      "source": [
        "<a href=\"https://colab.research.google.com/github/aldrich1221/recommendation-system/blob/main/GNN/GraphSAGE.ipynb\" target=\"_parent\"><img src=\"https://colab.research.google.com/assets/colab-badge.svg\" alt=\"Open In Colab\"/></a>"
      ]
    },
    {
      "cell_type": "code",
      "metadata": {
        "id": "9PExBXP2k0Fb"
      },
      "source": [
        "import numpy as np\n",
        "import torch\n",
        "import torch.nn as nn\n",
        "import torch.nn.functional as F\n",
        "import torch.nn.init as init\n",
        "\n",
        "def sampling(sourceNodes,samplingNum,nodeTable):\n",
        "  results=[]\n",
        "  for sid in sourceNodes:\n",
        "    sampleNeighbor=np.random.choice(nodeTable[sid],size=(samplingNum,))\n",
        "    results.append(sampleNeighbor)\n",
        "  return np.asarray(results).flatten()\n",
        "\n",
        "def multiSampling(sourceNodes,samplingNum,nodeTable):\n",
        "  multiSamplingResult=[sourceNodes]\n",
        "  for i,samplenum in enumerate(samplingNum):\n",
        "    hopKResult=sampling(multiSamplingResult[i],samplenum,nodeTable)\n",
        "    multiSamplingResult.append(hopKResult)\n",
        "  return multiSamplingResult\n",
        "\n"
      ],
      "execution_count": null,
      "outputs": []
    },
    {
      "cell_type": "code",
      "metadata": {
        "id": "ZBt9dqIHuj1b"
      },
      "source": [
        "class Aggregator(nn.Module):\n",
        "  def __init__(self,inputDim,outputDim,aggMethod='mean'):\n",
        "    super(Aggregator,self).__init__()\n",
        "    self.inputDim=inputDim\n",
        "    self.outputDim=outputDim\n",
        "    self.useBias=useBias\n",
        "    self.aggMethod=aggMethod\n",
        "    self.weight=nn.Parameter(torch.Tensor(inputDim,outputDim))\n",
        "   \n",
        "    self.bias=nn.Parameter(torch.Tensor(outputDim))\n",
        "    self.reset()\n",
        "\n",
        "  def reset(self):\n",
        "    init.kaiming_uniform_(self.weight)\n",
        "    if self.useBias:\n",
        "      init.zeros_(self.bias)\n",
        "  def forward(self,neighborFeature):\n",
        "    if self.aggMethod=='mean':\n",
        "      aggNeighbor=neighborFeature.mean(dim=1)\n",
        "    elif self.aggMethod=='max':\n",
        "      aggNeighbor=neighborFeature.max(dim=1)\n",
        "    else:\n",
        "      raise ValueError(\"please  ues mean aggregation\")\n",
        "    neighborHidden=torch.matmul(aggNeighbor,self.weight)+self.bias\n",
        "   \n",
        "    return neighborHidden\n",
        "\n",
        "\n"
      ],
      "execution_count": null,
      "outputs": []
    }
  ]
}