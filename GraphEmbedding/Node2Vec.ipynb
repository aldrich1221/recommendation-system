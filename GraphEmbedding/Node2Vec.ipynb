{
  "nbformat": 4,
  "nbformat_minor": 5,
  "metadata": {
    "environment": {
      "name": "pytorch-gpu.1-7.mnightly-2021-02-02-debian-10-test",
      "type": "gcloud",
      "uri": "gcr.io/deeplearning-platform-release/pytorch-gpu.1-7:mnightly-2021-02-02-debian-10-test"
    },
    "kernelspec": {
      "display_name": "Python [conda env:root] *",
      "language": "python",
      "name": "conda-root-py"
    },
    "language_info": {
      "codemirror_mode": {
        "name": "ipython",
        "version": 3
      },
      "file_extension": ".py",
      "mimetype": "text/x-python",
      "name": "python",
      "nbconvert_exporter": "python",
      "pygments_lexer": "ipython3",
      "version": "3.7.9"
    },
    "colab": {
      "name": "Node2Vec.ipynb",
      "provenance": [],
      "toc_visible": true,
      "include_colab_link": true
    }
  },
  "cells": [
    {
      "cell_type": "markdown",
      "metadata": {
        "id": "view-in-github",
        "colab_type": "text"
      },
      "source": [
        "<a href=\"https://colab.research.google.com/github/aldrich1221/recommendation-system/blob/main/GraphEmbedding/Node2Vec.ipynb\" target=\"_parent\"><img src=\"https://colab.research.google.com/assets/colab-badge.svg\" alt=\"Open In Colab\"/></a>"
      ]
    },
    {
      "cell_type": "code",
      "metadata": {
        "collapsed": true,
        "jupyter": {
          "outputs_hidden": true
        },
        "id": "veterinary-sheet",
        "colab": {
          "base_uri": "https://localhost:8080/"
        },
        "outputId": "be66b354-c26d-41f7-9278-8f1abeedafec"
      },
      "source": [
        "!pip install gensim\n",
        "!pip install sklearn"
      ],
      "id": "veterinary-sheet",
      "execution_count": 36,
      "outputs": [
        {
          "output_type": "stream",
          "text": [
            "Requirement already satisfied: gensim in /usr/local/lib/python3.6/dist-packages (3.6.0)\n",
            "Requirement already satisfied: scipy>=0.18.1 in /usr/local/lib/python3.6/dist-packages (from gensim) (1.4.1)\n",
            "Requirement already satisfied: numpy>=1.11.3 in /usr/local/lib/python3.6/dist-packages (from gensim) (1.19.5)\n",
            "Requirement already satisfied: smart-open>=1.2.1 in /usr/local/lib/python3.6/dist-packages (from gensim) (4.1.2)\n",
            "Requirement already satisfied: six>=1.5.0 in /usr/local/lib/python3.6/dist-packages (from gensim) (1.15.0)\n",
            "Requirement already satisfied: sklearn in /usr/local/lib/python3.6/dist-packages (0.0)\n",
            "Requirement already satisfied: scikit-learn in /usr/local/lib/python3.6/dist-packages (from sklearn) (0.22.2.post1)\n",
            "Requirement already satisfied: scipy>=0.17.0 in /usr/local/lib/python3.6/dist-packages (from scikit-learn->sklearn) (1.4.1)\n",
            "Requirement already satisfied: numpy>=1.11.0 in /usr/local/lib/python3.6/dist-packages (from scikit-learn->sklearn) (1.19.5)\n",
            "Requirement already satisfied: joblib>=0.11 in /usr/local/lib/python3.6/dist-packages (from scikit-learn->sklearn) (1.0.0)\n"
          ],
          "name": "stdout"
        }
      ]
    },
    {
      "cell_type": "code",
      "metadata": {
        "id": "coated-saver"
      },
      "source": [
        "import numpy as np\n",
        "import pandas as pd\n",
        "import networkx as nx\n",
        "import os\n",
        "from gensim.models import Word2Vec\n",
        "directed = False\n",
        "p = 2.0\n",
        "q = 1.0\n",
        "num_walks = 5000\n",
        "walk_length = 3\n",
        "emb_size = 200\n",
        "iteration = 5\n",
        "limit_rows   = 10000\n",
        "limit_people = int(1.2e2)\n"
      ],
      "id": "coated-saver",
      "execution_count": 66,
      "outputs": []
    },
    {
      "cell_type": "code",
      "metadata": {
        "colab": {
          "base_uri": "https://localhost:8080/",
          "height": 353
        },
        "id": "completed-treaty",
        "outputId": "451c61b9-f6a8-4906-c10f-8d5f6e109e01"
      },
      "source": [
        "\n",
        "def myLoadGraph(filePath,directed):\n",
        "    if directed:\n",
        "        g = nx.DiGraph()\n",
        "    else:\n",
        "        g = nx.Graph()\n",
        "    \n",
        "    userEdgeList=pd.read_csv(filePath+\"SampleEdge.csv\")\n",
        "    EdgeList=[]\n",
        "        \n",
        "    for i in range(len(userEdgeList)):\n",
        "      \n",
        "    \n",
        "      EdgeList.append((userEdgeList.iloc[i][1],userEdgeList.iloc[i][2],{\"weight\":1}))\n",
        "    \n",
        "    g.add_edges_from(EdgeList)\n",
        "    userNodeList=pd.read_csv(filePath+\"SampleNode.csv\")['Nodes']\n",
        "    \n",
        "    g.add_nodes_from(np.unique(userNodeList))\n",
        "    \n",
        "    return g,userNodeList\n",
        "\n",
        "\n",
        "\n",
        "\n",
        "\n",
        "\n",
        "g,NodeList=myLoadGraph(\"https://storage.googleapis.com/aldrichstorage/yelp/smaller/\",directed)\n",
        "\n",
        "\n",
        "nx.write_gexf(g, \"origraph.gexf\") \n",
        "k=nx.read_gexf(\"origraph.gexf\") \n",
        "print('number of nodes',k.number_of_nodes())\n",
        "print('number of edges',k.number_of_edges())\n",
        "nx.draw(k,node_size=1,width=0.25)\n"
      ],
      "id": "completed-treaty",
      "execution_count": 57,
      "outputs": [
        {
          "output_type": "stream",
          "text": [
            "number of nodes 985\n",
            "number of edges 997\n"
          ],
          "name": "stdout"
        },
        {
          "output_type": "display_data",
          "data": {
            "image/png": "[encoded data removed]",
            "text/plain": [
              "<Figure size 432x288 with 1 Axes>"
            ]
          },
          "metadata": {
            "tags": []
          }
        }
      ]
    },
    {
      "cell_type": "code",
      "metadata": {
        "id": "zOMIvsnVD2fL"
      },
      "source": [
        "def transitionProbability(g, directed = False, p=1, q=1):\n",
        "    aliasNodes, aliasEdges = {}, {};\n",
        "    for node in g.nodes():\n",
        "        probability = [g[node][nei]['weight'] for nei in sorted(g.neighbors(node))]\n",
        "        norm_const = sum(probability)\n",
        "        norm_probability = [float(prob)/norm_const for prob in probability]\n",
        "        aliasNodes[node] = aliasSetup(norm_probability)\n",
        "\n",
        "    if directed:\n",
        "        for edge in g.edges():\n",
        "            aliasEdges[edge] = edgesAliasSampling(g, edge[0], edge[1], p, q)\n",
        "          \n",
        "    else:\n",
        "        for edge in g.edges():\n",
        "            aliasEdges[edge] = edgesAliasSampling(g, edge[0], edge[1], p, q)\n",
        "            aliasEdges[(edge[1], edge[0])] = edgesAliasSampling(g, edge[1], edge[0], p, q)\n",
        "\n",
        "    return aliasNodes, aliasEdges\n",
        "\n",
        "\n",
        "def edgesAliasSampling(g, src, dest, p=1, q=1):\n",
        "    probability = [];\n",
        "    for nei in sorted(g.neighbors(dest)):\n",
        "        w=g[dest][nei]['weight']\n",
        "        if nei==src:  # d_tx == 0\n",
        "            probability.append(w/p)\n",
        "        elif g.has_edge(nei, src):  # d_tx == 1\n",
        "            probability.append(w)\n",
        "        else:  # d_tx >==2\n",
        "            probability.append(w/q)\n",
        "    normProbability = [float(prob)/sum(probability) for prob in probability]\n",
        "    return aliasSetup(normProbability)\n",
        "\n",
        "\n",
        "\n",
        "def aliasSetup(probabilities):\n",
        "    K = len(probabilities)\n",
        "    q = np.zeros(K)\n",
        "    J = np.zeros(K, dtype=np.int)\n",
        "    smaller = []\n",
        "    larger = []\n",
        "    for kk, prob in enumerate(probabilities):\n",
        "        q[kk] = K*prob\n",
        "        if q[kk] < 1.0:\n",
        "            smaller.append(kk)\n",
        "        else:\n",
        "            larger.append(kk)\n",
        "\n",
        "    while len(smaller) > 0 and len(larger) > 0:\n",
        "        small = smaller.pop()\n",
        "        large = larger.pop()\n",
        "\n",
        "        J[small] = large\n",
        "        q[large] = q[large] + q[small] - 1.0\n",
        "        if q[large] < 1.0:\n",
        "            smaller.append(large)\n",
        "        else:\n",
        "            larger.append(large)\n",
        "\n",
        "    return J, q\n",
        "\n",
        "\n",
        "\n",
        "def node2vec(g, start, aliasNodes, aliasEdges, walk_length=3):\n",
        "    path = [str(start)]\n",
        "    while len(path)<walk_length:\n",
        "        \n",
        "        node = path[-1]\n",
        "      \n",
        "        neis = sorted(g.neighbors(node))\n",
        "        if len(neis)>0:\n",
        "            if len(path)==1:\n",
        "                l = len(aliasNodes[node][0])\n",
        "                idx = int(np.floor(np.random.rand()*l))\n",
        "                if np.random.rand()<aliasNodes[node][1][idx]:\n",
        "                    path.append(str(neis[idx]))\n",
        "                else:\n",
        "                    path.append(str(neis[aliasNodes[node][0][idx]]))\n",
        "            else:\n",
        "                prev = path[-2]\n",
        "                l = len(aliasEdges[(prev, node)][0])\n",
        "                idx = int(np.floor(np.random.rand()*l))\n",
        "                if np.random.rand()<aliasEdges[(prev, node)][1][idx]:\n",
        "                    path.append(str(neis[idx]))\n",
        "                else:\n",
        "                    path.append(str(neis[aliasEdges[(prev, node)][0][idx]]))\n",
        "        else:\n",
        "            break\n",
        "    return path \n",
        "\n",
        "\n",
        "\n"
      ],
      "id": "zOMIvsnVD2fL",
      "execution_count": 58,
      "outputs": []
    },
    {
      "cell_type": "code",
      "metadata": {
        "id": "appointed-baghdad"
      },
      "source": [
        "\n",
        "\n",
        "aliasNodes, aliasEdges = transitionProbability(g, directed,p,q)\n",
        "\n",
        "\n",
        "walks = []\n",
        "idx_total = []\n",
        "walkLength=[]\n",
        "for i in range(num_walks):\n",
        "    r = np.array(range(len(NodeList)))\n",
        "    np.random.shuffle(r)\n",
        "   \n",
        "    for node in [NodeList[j] for j in r]:\n",
        "        walks.append(node2vec(g, node, aliasNodes, aliasEdges, walk_length))\n",
        "    walkLength.append(len(walks[i]))\n",
        "  \n",
        "\n"
      ],
      "id": "appointed-baghdad",
      "execution_count": 65,
      "outputs": []
    },
    {
      "cell_type": "code",
      "metadata": {
        "id": "surrounded-spanking"
      },
      "source": [
        "with open('walks.txt', 'w') as f:\n",
        "    for walk in walks:\n",
        "        for text in walk:\n",
        "#             print(text)\n",
        "        \n",
        "            f.write(\"%s,\" % text)\n",
        "        f.write(\"\\n\")\n",
        "   "
      ],
      "id": "surrounded-spanking",
      "execution_count": 60,
      "outputs": []
    },
    {
      "cell_type": "code",
      "metadata": {
        "id": "administrative-liberia",
        "colab": {
          "base_uri": "https://localhost:8080/"
        },
        "outputId": "dbfa4851-41d9-4cfa-b901-c6572e498721"
      },
      "source": [
        "newWalks=[]\n",
        "Allnode=[]\n",
        "with open('walks.txt', 'r') as f:\n",
        "\n",
        "    lines=f.readlines()\n",
        "    \n",
        "    for line in lines:\n",
        "        \n",
        "        line_split = line.split(\",\")\n",
        "        for each in line_split :\n",
        "            Allnode.append(each)\n",
        "        newWalks.append(line_split[:-1])\n",
        "print(len(np.unique(Allnode)))"
      ],
      "id": "administrative-liberia",
      "execution_count": 61,
      "outputs": [
        {
          "output_type": "stream",
          "text": [
            "986\n"
          ],
          "name": "stdout"
        }
      ]
    },
    {
      "cell_type": "code",
      "metadata": {
        "id": "every-america"
      },
      "source": [
        "from gensim.test.utils import common_texts, get_tmpfile\n",
        "from gensim.models import Word2Vec\n",
        "from gensim.models.callbacks import CallbackAny2Vec\n",
        "\n",
        "model = Word2Vec(newWalks, size=200, min_count=0, sg=1, iter=5,compute_loss=True)\n",
        "model.save('outputNode2Vec.model')"
      ],
      "id": "every-america",
      "execution_count": 63,
      "outputs": []
    },
    {
      "cell_type": "code",
      "metadata": {
        "id": "answering-quick",
        "colab": {
          "base_uri": "https://localhost:8080/",
          "height": 352
        },
        "outputId": "7fdddc40-caa9-480a-b335-8df35840bc14"
      },
      "source": [
        "from sklearn.manifold import TSNE\n",
        "import matplotlib.pyplot as plt\n",
        "\n",
        "vocab = list(model.wv.vocab)\n",
        "\n",
        "X = model[vocab]\n",
        "tsne = TSNE(n_components=2)\n",
        "X_tsne = tsne.fit_transform(X)\n",
        "df = pd.DataFrame(X_tsne, columns=['x', 'y'])\n",
        "\n",
        "fig = plt.figure()\n",
        "ax = fig.add_subplot(1, 1, 1)\n",
        "ax.set_title(\"word2vec result (parts of users)\")\n",
        "ax.scatter(df['x'], df['y'])\n",
        "print(len(df['x']))\n",
        "for word, pos in df.iterrows():\n",
        "    ax.annotate(_,pos)"
      ],
      "id": "answering-quick",
      "execution_count": 64,
      "outputs": [
        {
          "output_type": "stream",
          "text": [
            "/usr/local/lib/python3.6/dist-packages/ipykernel_launcher.py:6: DeprecationWarning: Call to deprecated `__getitem__` (Method will be removed in 4.0.0, use self.wv.__getitem__() instead).\n",
            "  \n"
          ],
          "name": "stderr"
        },
        {
          "output_type": "stream",
          "text": [
            "985\n"
          ],
          "name": "stdout"
        },
        {
          "output_type": "display_data",
          "data": {
            "image/png": "[encoded data removed]",
            "text/plain": [
              "<Figure size 432x288 with 1 Axes>"
            ]
          },
          "metadata": {
            "tags": [],
            "needs_background": "light"
          }
        }
      ]
    }
  ]
}